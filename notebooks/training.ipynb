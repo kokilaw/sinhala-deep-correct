{
 "cells": [
  {
   "cell_type": "code",
   "execution_count": 0,
   "metadata": {
    "colab": {
     "base_uri": "https://localhost:8080/",
     "height": 35
    },
    "colab_type": "code",
    "id": "-mmjFUwNzSmQ",
    "outputId": "8f940eb9-7ee6-470e-a65b-31f151238582"
   },
   "outputs": [
    {
     "name": "stdout",
     "output_type": "stream",
     "text": [
      "Drive already mounted at /content/drive; to attempt to forcibly remount, call drive.mount(\"/content/drive\", force_remount=True).\n"
     ]
    }
   ],
   "source": [
    "from google.colab import drive\n",
    "drive.mount('/content/drive')"
   ]
  },
  {
   "cell_type": "code",
   "execution_count": 0,
   "metadata": {
    "colab": {},
    "colab_type": "code",
    "id": "fY5MI-uSo8EZ"
   },
   "outputs": [],
   "source": [
    "from importlib import reload\n",
    "drive = reload(drive)"
   ]
  },
  {
   "cell_type": "code",
   "execution_count": 0,
   "metadata": {
    "colab": {},
    "colab_type": "code",
    "id": "08TtWC_CzUON"
   },
   "outputs": [],
   "source": [
    "!pip install -q keras"
   ]
  },
  {
   "cell_type": "code",
   "execution_count": 0,
   "metadata": {
    "colab": {},
    "colab_type": "code",
    "id": "IsWe6mYAqGta"
   },
   "outputs": [],
   "source": [
    "!pip install Cython\n",
    "!pip install git+git://github.com/scikit-learn/scikit-learn.git"
   ]
  },
  {
   "cell_type": "code",
   "execution_count": 0,
   "metadata": {
    "colab": {},
    "colab_type": "code",
    "id": "6td5KD0AzjNk"
   },
   "outputs": [],
   "source": [
    "from __future__ import unicode_literals, print_function, division\n",
    "from io import open\n",
    "import re\n",
    "import random\n",
    "import os\n",
    "import pickle"
   ]
  },
  {
   "cell_type": "code",
   "execution_count": 0,
   "metadata": {
    "colab": {
     "base_uri": "https://localhost:8080/",
     "height": 35
    },
    "colab_type": "code",
    "id": "LGlRWhnszl02",
    "outputId": "5f056170-7a5d-4a87-d3f7-afb5b598dd5a"
   },
   "outputs": [
    {
     "name": "stderr",
     "output_type": "stream",
     "text": [
      "Using TensorFlow backend.\n"
     ]
    }
   ],
   "source": [
    "%matplotlib inline\n",
    "\n",
    "import numpy as np\n",
    "np.random.seed(6788)\n",
    "import matplotlib.pyplot as plt\n",
    "\n",
    "import tensorflow as tf\n",
    "sess = tf.Session(config=tf.ConfigProto(log_device_placement=True))\n",
    "tf.set_random_seed(6788)\n",
    "\n",
    "from keras.layers import Input, Embedding, LSTM, TimeDistributed, Dense, SimpleRNN, Activation, dot, concatenate, Bidirectional\n",
    "from keras.models import Model, load_model\n",
    "\n",
    "from keras.utils import Sequence\n",
    "from keras.callbacks import ModelCheckpoint, EarlyStopping\n",
    "\n",
    "from sklearn.model_selection import train_test_split"
   ]
  },
  {
   "cell_type": "code",
   "execution_count": 0,
   "metadata": {
    "colab": {},
    "colab_type": "code",
    "id": "SL7X7k0Fznez"
   },
   "outputs": [],
   "source": [
    "MAX_LENGTH = 200\n",
    "MIN_WORD_COUNT = 3\n",
    "MAX_WORD_COUNT = 8"
   ]
  },
  {
   "cell_type": "code",
   "execution_count": 0,
   "metadata": {
    "colab": {},
    "colab_type": "code",
    "id": "vMl6_b0Xzp-c"
   },
   "outputs": [],
   "source": [
    "def normalize_string(s):\n",
    "    s = re.sub(r\"([.!?])\", r\" \\1\", s)\n",
    "    return s\n",
    "\n",
    "\n",
    "def filter_pair(p):\n",
    "     return MAX_WORD_COUNT >= len(p[0].split(' ')) >= MIN_WORD_COUNT and \\\n",
    "        len(p[0]) <= MAX_LENGTH\n",
    "\n",
    "\n",
    "def filter_pairs(pairs):\n",
    "    return [pair for pair in pairs if filter_pair(pair)]\n",
    "\n",
    "\n",
    "def read_from_file(path):\n",
    "    print(\"Reading lines...\")\n",
    "\n",
    "    # Read the file and split into lines\n",
    "    lines = open(path, encoding='utf-16'). \\\n",
    "        read().strip().split('\\n')\n",
    "\n",
    "    # Split every line into data and normalize\n",
    "    pairs = [[normalize_string(s) for s in l.split('\\t')] for l in lines]\n",
    "\n",
    "    return pairs\n",
    "\n",
    "\n",
    "def prepare_data(path):\n",
    "    pairs = read_from_file(path)\n",
    "    print(\"Read %s sentence pairs\" % len(pairs))\n",
    "    pairs = filter_pairs(pairs)\n",
    "    print(\"Trimmed to %s sentence pairs\" % len(pairs))\n",
    "    return pairs"
   ]
  },
  {
   "cell_type": "markdown",
   "metadata": {
    "colab": {
     "base_uri": "https://localhost:8080/",
     "height": 71
    },
    "colab_type": "code",
    "id": "UbWEXxELzrvj",
    "outputId": "c0cfe55e-3587-403a-d499-e16c1acab065"
   },
   "source": [
    "pairs = prepare_data(\"/content/drive/My Drive/final_year_project/data/all_corpus_sentence_pairs_v5.txt\")\n",
    "input_data = [row[0] for row in pairs]\n",
    "output_data = [row[1] for row in pairs]"
   ]
  },
  {
   "cell_type": "code",
   "execution_count": 0,
   "metadata": {
    "colab": {},
    "colab_type": "code",
    "id": "86YC8OA6uE5X"
   },
   "outputs": [],
   "source": [
    "X_train, X_test, y_train, y_test = train_test_split(input_data, output_data, test_size=0.1, random_state=42)"
   ]
  },
  {
   "cell_type": "code",
   "execution_count": 0,
   "metadata": {
    "colab": {},
    "colab_type": "code",
    "id": "l3QEseeKzvA0"
   },
   "outputs": [],
   "source": [
    "# Placeholder for max lengths of input and output which are user configurable constants\n",
    "max_input_length = None\n",
    "max_output_length = None\n",
    "\n",
    "char_start_encoding = 1\n",
    "char_padding_encoding = 0\n",
    "\n",
    "\n",
    "def build_sequence_encode_decode_dicts(input_data):\n",
    "    encoding_dict = {}\n",
    "    decoding_dict = {}\n",
    "    for line in input_data:\n",
    "        for char in line:\n",
    "            if char not in encoding_dict:\n",
    "                # Using 2 + because our sequence start encoding is 1 and padding encoding is 0\n",
    "                encoding_dict[char] = 2 + len(encoding_dict)\n",
    "                decoding_dict[2 + len(decoding_dict)] = char\n",
    "\n",
    "    return encoding_dict, decoding_dict, len(encoding_dict) + 2"
   ]
  },
  {
   "cell_type": "code",
   "execution_count": 0,
   "metadata": {
    "colab": {},
    "colab_type": "code",
    "id": "hW_SFFpDzyg7"
   },
   "outputs": [],
   "source": [
    "def encode_sequences(encoding_dict, sequences, max_length):\n",
    "    encoded_data = np.zeros(shape=(len(sequences), max_length))\n",
    "    for i in range(len(sequences)):\n",
    "        for j in range(min(len(sequences[i]), max_length)):\n",
    "            encoded_data[i][j] = encoding_dict[sequences[i][j]]\n",
    "    return encoded_data"
   ]
  },
  {
   "cell_type": "code",
   "execution_count": 0,
   "metadata": {
    "colab": {},
    "colab_type": "code",
    "id": "-4bwKpXWz0Rt"
   },
   "outputs": [],
   "source": [
    "def decode_sequence(decoding_dict, sequence):\n",
    "    text = ''\n",
    "    for i in sequence:\n",
    "        if i == 0:\n",
    "            break\n",
    "        text += decoding_dict[i]\n",
    "    return text"
   ]
  },
  {
   "cell_type": "code",
   "execution_count": 0,
   "metadata": {
    "colab": {},
    "colab_type": "code",
    "id": "mezCUeVkz2pT"
   },
   "outputs": [],
   "source": [
    "def generate(text, input_encoding_dict, model, max_input_length, max_output_length, beam_size, max_beams,\n",
    "             min_cut_off_len, cut_off_ratio):\n",
    "    min_cut_off_len = max(min_cut_off_len, cut_off_ratio * len(text))\n",
    "    min_cut_off_len = min(min_cut_off_len, max_output_length)\n",
    "\n",
    "    encoder_input = encode_sequences(input_encoding_dict, [text], max_input_length)\n",
    "\n",
    "    completed_beams = []\n",
    "    running_beams = [\n",
    "        [np.zeros(shape=(len(encoder_input), max_output_length)), [1]]\n",
    "    ]\n",
    "    running_beams[0][0][:, 0] = char_start_encoding\n",
    "\n",
    "    while len(running_beams) != 0:\n",
    "        running_beams = sorted(running_beams, key=lambda tup: np.prod(tup[1]), reverse=True)\n",
    "        running_beams = running_beams[:max_beams]\n",
    "\n",
    "        temp_running_beams = []\n",
    "        for running_beam, probs in running_beams:\n",
    "            if len(probs) >= min_cut_off_len:\n",
    "                completed_beams.append([running_beam[:, 1:], probs])\n",
    "            else:\n",
    "                prediction = model.predict([encoder_input, running_beam])[0]\n",
    "                sorted_args = prediction.argsort()\n",
    "                sorted_probs = np.sort(prediction)\n",
    "\n",
    "                for i in range(1, beam_size + 1):\n",
    "                    temp_running_beam = np.copy(running_beam)\n",
    "                    i = -1 * i\n",
    "                    ith_arg = sorted_args[:, i][len(probs)]\n",
    "                    ith_prob = sorted_probs[:, i][len(probs)]\n",
    "\n",
    "                    temp_running_beam[:, len(probs)] = ith_arg\n",
    "                    temp_running_beams.append([temp_running_beam, probs + [ith_prob]])\n",
    "\n",
    "        running_beams = [b for b in temp_running_beams]\n",
    "\n",
    "    return completed_beams"
   ]
  },
  {
   "cell_type": "code",
   "execution_count": 0,
   "metadata": {
    "colab": {},
    "colab_type": "code",
    "id": "HppnasD5z4oU"
   },
   "outputs": [],
   "source": [
    "def infer(text, model, params, beam_size=3, max_beams=3, min_cut_off_len=10, cut_off_ratio=1.5):\n",
    "    input_encoding_dict = params['input_encoding']\n",
    "    output_decoding_dict = params['output_decoding']\n",
    "    max_input_length = params['max_input_length']\n",
    "    max_output_length = params['max_output_length']\n",
    "\n",
    "    decoder_outputs = generate(text, input_encoding_dict, model, max_input_length, max_output_length, beam_size,\n",
    "                               max_beams, min_cut_off_len, cut_off_ratio)\n",
    "    outputs = []\n",
    "    for decoder_output, probs in decoder_outputs:\n",
    "        outputs.append({'sequence': decode_sequence(output_decoding_dict, decoder_output[0]), 'prob': np.prod(probs)})\n",
    "\n",
    "    return outputs"
   ]
  },
  {
   "cell_type": "code",
   "execution_count": 0,
   "metadata": {
    "colab": {},
    "colab_type": "code",
    "id": "Sd6Sk1n7z6qD"
   },
   "outputs": [],
   "source": [
    "def generate_greedy(text, input_encoding_dict, model, max_input_length, max_output_length):\n",
    "    encoder_input = encode_sequences(input_encoding_dict, [text], max_input_length)\n",
    "    decoder_input = np.zeros(shape=(len(encoder_input), max_output_length))\n",
    "    decoder_input[:, 0] = char_start_encoding\n",
    "    for i in range(1, max_output_length):\n",
    "        output = model.predict([encoder_input, decoder_input]).argmax(axis=2)\n",
    "        decoder_input[:, i] = output[:, i]\n",
    "\n",
    "        if decoder_input[:, i] == char_padding_encoding:\n",
    "            return decoder_input[:, 1:]\n",
    "\n",
    "    return decoder_input[:, 1:]"
   ]
  },
  {
   "cell_type": "code",
   "execution_count": 0,
   "metadata": {
    "colab": {},
    "colab_type": "code",
    "id": "fju9hUikz8ys"
   },
   "outputs": [],
   "source": [
    "def infer_greedy(text, model, params):\n",
    "    input_encoding_dict = params['input_encoding']\n",
    "    output_decoding_dict = params['output_decoding']\n",
    "    max_input_length = params['max_input_length']\n",
    "    max_output_length = params['max_output_length']\n",
    "\n",
    "    decoder_output = generate_greedy(text, input_encoding_dict, model, max_input_length, max_output_length)\n",
    "    return decode_sequence(output_decoding_dict, decoder_output[0])"
   ]
  },
  {
   "cell_type": "code",
   "execution_count": 0,
   "metadata": {
    "colab": {},
    "colab_type": "code",
    "id": "wMkkAxwMz-lq"
   },
   "outputs": [],
   "source": [
    "def build_params(input_data=[], output_data=[], params_path='test_params', max_lengths=(5, 5)):\n",
    "    if os.path.exists(params_path):\n",
    "        print('Loading the params file')\n",
    "        params = pickle.load(open(params_path, 'rb'))\n",
    "        return params\n",
    "\n",
    "    print('Creating params file')\n",
    "    input_encoding, input_decoding, input_dict_size = build_sequence_encode_decode_dicts(input_data)\n",
    "    output_encoding, output_decoding, output_dict_size = build_sequence_encode_decode_dicts(output_data)\n",
    "    params = {}\n",
    "    params['input_encoding'] = input_encoding\n",
    "    params['input_decoding'] = input_decoding\n",
    "    params['input_dict_size'] = input_dict_size\n",
    "    params['output_encoding'] = output_encoding\n",
    "    params['output_decoding'] = output_decoding\n",
    "    params['output_dict_size'] = output_dict_size\n",
    "    params['max_input_length'] = max_lengths[0]\n",
    "    params['max_output_length'] = max_lengths[1]\n",
    "\n",
    "    os.makedirs(os.path.dirname(params_path), exist_ok=True)\n",
    "    with open(params_path, 'wb') as f:\n",
    "        pickle.dump(params, f)\n",
    "    return params"
   ]
  },
  {
   "cell_type": "code",
   "execution_count": 0,
   "metadata": {
    "colab": {},
    "colab_type": "code",
    "id": "49T52hPw0AqS"
   },
   "outputs": [],
   "source": [
    "def convert_training_data(input_data, output_data, params):\n",
    "    input_encoding = params['input_encoding']\n",
    "    input_decoding = params['input_decoding']\n",
    "    input_dict_size = params['input_dict_size']\n",
    "    output_encoding = params['output_encoding']\n",
    "    output_decoding = params['output_decoding']\n",
    "    output_dict_size = params['output_dict_size']\n",
    "    max_input_length = params['max_input_length']\n",
    "    max_output_length = params['max_output_length']\n",
    "\n",
    "    encoded_training_input = encode_sequences(input_encoding, input_data, max_input_length)\n",
    "    encoded_training_output = encode_sequences(output_encoding, output_data, max_output_length)\n",
    "    training_encoder_input = encoded_training_input\n",
    "    training_decoder_input = np.zeros_like(encoded_training_output)\n",
    "    training_decoder_input[:, 1:] = encoded_training_output[:, :-1]\n",
    "    training_decoder_input[:, 0] = char_start_encoding\n",
    "    training_decoder_output = np.eye(output_dict_size)[encoded_training_output.astype('int')]\n",
    "    x = [training_encoder_input, training_decoder_input]\n",
    "    y = [training_decoder_output]\n",
    "    return x, y"
   ]
  },
  {
   "cell_type": "code",
   "execution_count": 0,
   "metadata": {
    "colab": {},
    "colab_type": "code",
    "id": "sj3YzK-40EEL"
   },
   "outputs": [],
   "source": [
    "def build_model(params_path='test/params', enc_lstm_units=128, unroll=True):\n",
    "    # generateing the encoding, decoding dicts\n",
    "    params = build_params(params_path=params_path)\n",
    "\n",
    "    input_encoding = params['input_encoding']\n",
    "    input_decoding = params['input_decoding']\n",
    "    input_dict_size = params['input_dict_size']\n",
    "    output_encoding = params['output_encoding']\n",
    "    output_decoding = params['output_decoding']\n",
    "    output_dict_size = params['output_dict_size']\n",
    "    max_input_length = params['max_input_length']\n",
    "    max_output_length = params['max_output_length']\n",
    "\n",
    "    print('Input encoding', input_encoding)\n",
    "    print('Input decoding', input_decoding)\n",
    "    print('Output encoding', output_encoding)\n",
    "    print('Output decoding', output_decoding)\n",
    "\n",
    "    # We need to define the max input lengths and max output lengths before training the model.\n",
    "    # We pad the inputs and outputs to these max lengths\n",
    "    encoder_input = Input(shape=(max_input_length,))\n",
    "    decoder_input = Input(shape=(max_output_length,))\n",
    "\n",
    "    # Need to make the number of hidden units configurable\n",
    "    encoder = Embedding(input_dict_size, enc_lstm_units, input_length=max_input_length, mask_zero=True)(encoder_input)\n",
    "    # using concat merge mode since in my experiments it gave the best results same with unroll\n",
    "    encoder = Bidirectional(LSTM(enc_lstm_units, return_sequences=True, unroll=unroll), merge_mode='concat')(encoder)\n",
    "    encoder_last = encoder[:, -1, :]\n",
    "\n",
    "    # using 2* enc_lstm_units because we are using concat merge mode\n",
    "    # cannot use bidirectionals lstm for decoding (obviously!)\n",
    "\n",
    "    decoder = Embedding(output_dict_size, 2 * enc_lstm_units, input_length=max_output_length, mask_zero=True)(\n",
    "        decoder_input)\n",
    "    decoder = LSTM(2 * enc_lstm_units, return_sequences=True, unroll=unroll)(decoder,\n",
    "                                                                             initial_state=[encoder_last, encoder_last])\n",
    "\n",
    "    # luong attention\n",
    "    attention = dot([decoder, encoder], axes=[2, 2])\n",
    "    attention = Activation('softmax', name='attention')(attention)\n",
    "\n",
    "    context = dot([attention, encoder], axes=[2, 1])\n",
    "\n",
    "    decoder_combined_context = concatenate([context, decoder])\n",
    "\n",
    "    output = TimeDistributed(Dense(enc_lstm_units, activation=\"tanh\"))(decoder_combined_context)\n",
    "    output = TimeDistributed(Dense(output_dict_size, activation=\"softmax\"))(output)\n",
    "\n",
    "    model = Model(inputs=[encoder_input, decoder_input], outputs=[output])\n",
    "    model.compile(optimizer='adam', loss='categorical_crossentropy', metrics=['accuracy'])\n",
    "    model.summary()\n",
    "\n",
    "    return model, params"
   ]
  },
  {
   "cell_type": "code",
   "execution_count": 0,
   "metadata": {
    "colab": {
     "base_uri": "https://localhost:8080/",
     "height": 6443
    },
    "colab_type": "code",
    "id": "_vH2lO2w0IUL",
    "outputId": "6ccaee37-cc25-47d3-b6de-a9e8e5d69df8"
   },
   "outputs": [
    {
     "name": "stdout",
     "output_type": "stream",
     "text": [
      "Creating params file\n"
     ]
    },
    {
     "data": {
      "text/plain": [
       "{'input_decoding': {2: 'ජ',\n",
       "  3: 'ෝ',\n",
       "  4: 'ත',\n",
       "  5: 'ි',\n",
       "  6: ' ',\n",
       "  7: 'ඔ',\n",
       "  8: 'බ',\n",
       "  9: 'ේ',\n",
       "  10: 'හ',\n",
       "  11: 'ඬ',\n",
       "  12: 'අ',\n",
       "  13: 'ම',\n",
       "  14: 'ර',\n",
       "  15: 'ණ',\n",
       "  16: 'ී',\n",
       "  17: 'ය',\n",
       "  18: '.',\n",
       "  19: '්',\n",
       "  20: 'න',\n",
       "  21: 'ො',\n",
       "  22: 'ට',\n",
       "  23: 'ප',\n",
       "  24: 'ල',\n",
       "  25: 'ස',\n",
       "  26: 'ක',\n",
       "  27: 'ෂ',\n",
       "  28: 'ව',\n",
       "  29: 'ා',\n",
       "  30: 'ද',\n",
       "  31: 'ෙ',\n",
       "  32: 'ග',\n",
       "  33: 'එ',\n",
       "  34: 'ඉ',\n",
       "  35: 'ශ',\n",
       "  36: 'ඒ',\n",
       "  37: 'ං',\n",
       "  38: 'ඡ',\n",
       "  39: 'ඟ',\n",
       "  40: 'ු',\n",
       "  41: 'ැ',\n",
       "  42: 'ඇ',\n",
       "  43: 'ූ',\n",
       "  44: 'භ',\n",
       "  45: 'ෑ',\n",
       "  46: 'ඩ',\n",
       "  47: 'ළ',\n",
       "  48: 'උ',\n",
       "  49: '\\u200d',\n",
       "  50: 'ෛ',\n",
       "  51: 'ආ',\n",
       "  52: 'ධ',\n",
       "  53: 'ථ',\n",
       "  54: 'ඹ',\n",
       "  55: 'ඛ',\n",
       "  56: 'ච',\n",
       "  57: 'ඥ',\n",
       "  58: 'ෘ',\n",
       "  59: 'ෆ',\n",
       "  60: 'ඝ',\n",
       "  61: 'ඳ',\n",
       "  62: 'ඤ',\n",
       "  63: 'ඈ',\n",
       "  64: 'ඕ',\n",
       "  65: 'ඵ',\n",
       "  66: 'ඊ',\n",
       "  67: 'ෞ',\n",
       "  68: 'ඖ',\n",
       "  69: 'ඨ',\n",
       "  70: 'ඍ',\n",
       "  71: 'ඞ',\n",
       "  72: 'ඌ',\n",
       "  73: 'ඪ',\n",
       "  74: 'ඣ',\n",
       "  75: 'ඃ',\n",
       "  76: 'ඓ',\n",
       "  77: '¸',\n",
       "  78: '\\u0dfe',\n",
       "  79: 'ෲ',\n",
       "  80: '�',\n",
       "  81: 'Ê',\n",
       "  82: 'ෟ',\n",
       "  83: '\\xa0',\n",
       "  84: '‚',\n",
       "  85: '\\u202c',\n",
       "  86: '‒',\n",
       "  87: '\\u2003',\n",
       "  88: '\\x94',\n",
       "  89: '\\x83'},\n",
       " 'input_dict_size': 90,\n",
       " 'input_encoding': {' ': 6,\n",
       "  '.': 18,\n",
       "  '\\x83': 89,\n",
       "  '\\x94': 88,\n",
       "  '\\xa0': 83,\n",
       "  '¸': 77,\n",
       "  'Ê': 81,\n",
       "  'ං': 37,\n",
       "  'ඃ': 75,\n",
       "  'අ': 12,\n",
       "  'ආ': 51,\n",
       "  'ඇ': 42,\n",
       "  'ඈ': 63,\n",
       "  'ඉ': 34,\n",
       "  'ඊ': 66,\n",
       "  'උ': 48,\n",
       "  'ඌ': 72,\n",
       "  'ඍ': 70,\n",
       "  'එ': 33,\n",
       "  'ඒ': 36,\n",
       "  'ඓ': 76,\n",
       "  'ඔ': 7,\n",
       "  'ඕ': 64,\n",
       "  'ඖ': 68,\n",
       "  'ක': 26,\n",
       "  'ඛ': 55,\n",
       "  'ග': 32,\n",
       "  'ඝ': 60,\n",
       "  'ඞ': 71,\n",
       "  'ඟ': 39,\n",
       "  'ච': 56,\n",
       "  'ඡ': 38,\n",
       "  'ජ': 2,\n",
       "  'ඣ': 74,\n",
       "  'ඤ': 62,\n",
       "  'ඥ': 57,\n",
       "  'ට': 22,\n",
       "  'ඨ': 69,\n",
       "  'ඩ': 46,\n",
       "  'ඪ': 73,\n",
       "  'ණ': 15,\n",
       "  'ඬ': 11,\n",
       "  'ත': 4,\n",
       "  'ථ': 53,\n",
       "  'ද': 30,\n",
       "  'ධ': 52,\n",
       "  'න': 20,\n",
       "  'ඳ': 61,\n",
       "  'ප': 23,\n",
       "  'ඵ': 65,\n",
       "  'බ': 8,\n",
       "  'භ': 44,\n",
       "  'ම': 13,\n",
       "  'ඹ': 54,\n",
       "  'ය': 17,\n",
       "  'ර': 14,\n",
       "  'ල': 24,\n",
       "  'ව': 28,\n",
       "  'ශ': 35,\n",
       "  'ෂ': 27,\n",
       "  'ස': 25,\n",
       "  'හ': 10,\n",
       "  'ළ': 47,\n",
       "  'ෆ': 59,\n",
       "  '්': 19,\n",
       "  'ා': 29,\n",
       "  'ැ': 41,\n",
       "  'ෑ': 45,\n",
       "  'ි': 5,\n",
       "  'ී': 16,\n",
       "  'ු': 40,\n",
       "  'ූ': 43,\n",
       "  'ෘ': 58,\n",
       "  'ෙ': 31,\n",
       "  'ේ': 9,\n",
       "  'ෛ': 50,\n",
       "  'ො': 21,\n",
       "  'ෝ': 3,\n",
       "  'ෞ': 67,\n",
       "  'ෟ': 82,\n",
       "  'ෲ': 79,\n",
       "  '\\u0dfe': 78,\n",
       "  '\\u2003': 87,\n",
       "  '\\u200d': 49,\n",
       "  '‒': 86,\n",
       "  '‚': 84,\n",
       "  '\\u202c': 85,\n",
       "  '�': 80},\n",
       " 'max_input_length': 200,\n",
       " 'max_output_length': 200,\n",
       " 'output_decoding': {2: 'ජ',\n",
       "  3: 'ෝ',\n",
       "  4: 'ත',\n",
       "  5: 'ි',\n",
       "  6: ' ',\n",
       "  7: 'ඔ',\n",
       "  8: 'බ',\n",
       "  9: 'ේ',\n",
       "  10: 'හ',\n",
       "  11: 'ඬ',\n",
       "  12: 'අ',\n",
       "  13: 'ම',\n",
       "  14: 'ර',\n",
       "  15: 'ණ',\n",
       "  16: 'ී',\n",
       "  17: 'ය',\n",
       "  18: '.',\n",
       "  19: '්',\n",
       "  20: 'න',\n",
       "  21: 'ො',\n",
       "  22: 'ට',\n",
       "  23: 'ප',\n",
       "  24: 'ල',\n",
       "  25: 'ස',\n",
       "  26: 'ක',\n",
       "  27: 'ෂ',\n",
       "  28: 'ව',\n",
       "  29: 'ා',\n",
       "  30: 'ද',\n",
       "  31: 'ෙ',\n",
       "  32: 'ග',\n",
       "  33: 'එ',\n",
       "  34: 'ඉ',\n",
       "  35: 'ශ',\n",
       "  36: 'ඒ',\n",
       "  37: 'ං',\n",
       "  38: 'ඡ',\n",
       "  39: 'ඟ',\n",
       "  40: 'ු',\n",
       "  41: 'ැ',\n",
       "  42: 'ඇ',\n",
       "  43: 'භ',\n",
       "  44: 'ෑ',\n",
       "  45: 'ූ',\n",
       "  46: 'ඩ',\n",
       "  47: 'ළ',\n",
       "  48: 'උ',\n",
       "  49: '\\u200d',\n",
       "  50: 'ෛ',\n",
       "  51: 'ආ',\n",
       "  52: 'ධ',\n",
       "  53: 'ථ',\n",
       "  54: 'ඹ',\n",
       "  55: 'ඛ',\n",
       "  56: 'ච',\n",
       "  57: 'ඥ',\n",
       "  58: 'ෘ',\n",
       "  59: 'ෆ',\n",
       "  60: 'ඝ',\n",
       "  61: 'ඳ',\n",
       "  62: 'ඤ',\n",
       "  63: 'ඈ',\n",
       "  64: 'ඕ',\n",
       "  65: 'ඵ',\n",
       "  66: 'ඊ',\n",
       "  67: 'ෞ',\n",
       "  68: 'ඖ',\n",
       "  69: 'ඨ',\n",
       "  70: 'ඍ',\n",
       "  71: 'ඞ',\n",
       "  72: 'ඌ',\n",
       "  73: 'ඪ',\n",
       "  74: 'ඣ',\n",
       "  75: 'ඃ',\n",
       "  76: 'ඓ',\n",
       "  77: '¸',\n",
       "  78: '\\u0dfe',\n",
       "  79: 'ෲ',\n",
       "  80: '�',\n",
       "  81: 'Ê',\n",
       "  82: 'ෟ',\n",
       "  83: '\\xa0',\n",
       "  84: '‚',\n",
       "  85: '\\u202c',\n",
       "  86: '‒',\n",
       "  87: '\\u2003',\n",
       "  88: '\\x94',\n",
       "  89: '\\x83'},\n",
       " 'output_dict_size': 90,\n",
       " 'output_encoding': {' ': 6,\n",
       "  '.': 18,\n",
       "  '\\x83': 89,\n",
       "  '\\x94': 88,\n",
       "  '\\xa0': 83,\n",
       "  '¸': 77,\n",
       "  'Ê': 81,\n",
       "  'ං': 37,\n",
       "  'ඃ': 75,\n",
       "  'අ': 12,\n",
       "  'ආ': 51,\n",
       "  'ඇ': 42,\n",
       "  'ඈ': 63,\n",
       "  'ඉ': 34,\n",
       "  'ඊ': 66,\n",
       "  'උ': 48,\n",
       "  'ඌ': 72,\n",
       "  'ඍ': 70,\n",
       "  'එ': 33,\n",
       "  'ඒ': 36,\n",
       "  'ඓ': 76,\n",
       "  'ඔ': 7,\n",
       "  'ඕ': 64,\n",
       "  'ඖ': 68,\n",
       "  'ක': 26,\n",
       "  'ඛ': 55,\n",
       "  'ග': 32,\n",
       "  'ඝ': 60,\n",
       "  'ඞ': 71,\n",
       "  'ඟ': 39,\n",
       "  'ච': 56,\n",
       "  'ඡ': 38,\n",
       "  'ජ': 2,\n",
       "  'ඣ': 74,\n",
       "  'ඤ': 62,\n",
       "  'ඥ': 57,\n",
       "  'ට': 22,\n",
       "  'ඨ': 69,\n",
       "  'ඩ': 46,\n",
       "  'ඪ': 73,\n",
       "  'ණ': 15,\n",
       "  'ඬ': 11,\n",
       "  'ත': 4,\n",
       "  'ථ': 53,\n",
       "  'ද': 30,\n",
       "  'ධ': 52,\n",
       "  'න': 20,\n",
       "  'ඳ': 61,\n",
       "  'ප': 23,\n",
       "  'ඵ': 65,\n",
       "  'බ': 8,\n",
       "  'භ': 43,\n",
       "  'ම': 13,\n",
       "  'ඹ': 54,\n",
       "  'ය': 17,\n",
       "  'ර': 14,\n",
       "  'ල': 24,\n",
       "  'ව': 28,\n",
       "  'ශ': 35,\n",
       "  'ෂ': 27,\n",
       "  'ස': 25,\n",
       "  'හ': 10,\n",
       "  'ළ': 47,\n",
       "  'ෆ': 59,\n",
       "  '්': 19,\n",
       "  'ා': 29,\n",
       "  'ැ': 41,\n",
       "  'ෑ': 44,\n",
       "  'ි': 5,\n",
       "  'ී': 16,\n",
       "  'ු': 40,\n",
       "  'ූ': 45,\n",
       "  'ෘ': 58,\n",
       "  'ෙ': 31,\n",
       "  'ේ': 9,\n",
       "  'ෛ': 50,\n",
       "  'ො': 21,\n",
       "  'ෝ': 3,\n",
       "  'ෞ': 67,\n",
       "  'ෟ': 82,\n",
       "  'ෲ': 79,\n",
       "  '\\u0dfe': 78,\n",
       "  '\\u2003': 87,\n",
       "  '\\u200d': 49,\n",
       "  '‒': 86,\n",
       "  '‚': 84,\n",
       "  '\\u202c': 85,\n",
       "  '�': 80}}"
      ]
     },
     "execution_count": 22,
     "metadata": {
      "tags": []
     },
     "output_type": "execute_result"
    }
   ],
   "source": [
    "build_params(input_data=X_train, output_data=y_train, params_path='/content/drive/My Drive/final_year_project/checkpoints/params', max_lengths=(200, 200))"
   ]
  },
  {
   "cell_type": "code",
   "execution_count": 0,
   "metadata": {
    "colab": {
     "base_uri": "https://localhost:8080/",
     "height": 793
    },
    "colab_type": "code",
    "id": "rIjjvyis0L77",
    "outputId": "4d609f7d-fe98-4173-92b0-6abc88a35108"
   },
   "outputs": [
    {
     "name": "stdout",
     "output_type": "stream",
     "text": [
      "Loading the params file\n",
      "Input encoding {'ජ': 2, 'ෝ': 3, 'ත': 4, 'ි': 5, ' ': 6, 'ඔ': 7, 'බ': 8, 'ේ': 9, 'හ': 10, 'ඬ': 11, 'අ': 12, 'ම': 13, 'ර': 14, 'ණ': 15, 'ී': 16, 'ය': 17, '.': 18, '්': 19, 'න': 20, 'ො': 21, 'ට': 22, 'ප': 23, 'ල': 24, 'ස': 25, 'ක': 26, 'ෂ': 27, 'ව': 28, 'ා': 29, 'ද': 30, 'ෙ': 31, 'ග': 32, 'එ': 33, 'ඉ': 34, 'ශ': 35, 'ඒ': 36, 'ං': 37, 'ඡ': 38, 'ඟ': 39, 'ු': 40, 'ැ': 41, 'ඇ': 42, 'ූ': 43, 'භ': 44, 'ෑ': 45, 'ඩ': 46, 'ළ': 47, 'උ': 48, '\\u200d': 49, 'ෛ': 50, 'ආ': 51, 'ධ': 52, 'ථ': 53, 'ඹ': 54, 'ඛ': 55, 'ච': 56, 'ඥ': 57, 'ෘ': 58, 'ෆ': 59, 'ඝ': 60, 'ඳ': 61, 'ඤ': 62, 'ඈ': 63, 'ඕ': 64, 'ඵ': 65, 'ඊ': 66, 'ෞ': 67, 'ඖ': 68, 'ඨ': 69, 'ඍ': 70, 'ඞ': 71, 'ඌ': 72, 'ඪ': 73, 'ඣ': 74, 'ඃ': 75, 'ඓ': 76, '¸': 77, '\\u0dfe': 78, 'ෲ': 79, '�': 80, 'Ê': 81, 'ෟ': 82, '\\xa0': 83, '‚': 84, '\\u202c': 85, '‒': 86, '\\u2003': 87, '\\x94': 88, '\\x83': 89}\n",
      "Input decoding {2: 'ජ', 3: 'ෝ', 4: 'ත', 5: 'ි', 6: ' ', 7: 'ඔ', 8: 'බ', 9: 'ේ', 10: 'හ', 11: 'ඬ', 12: 'අ', 13: 'ම', 14: 'ර', 15: 'ණ', 16: 'ී', 17: 'ය', 18: '.', 19: '්', 20: 'න', 21: 'ො', 22: 'ට', 23: 'ප', 24: 'ල', 25: 'ස', 26: 'ක', 27: 'ෂ', 28: 'ව', 29: 'ා', 30: 'ද', 31: 'ෙ', 32: 'ග', 33: 'එ', 34: 'ඉ', 35: 'ශ', 36: 'ඒ', 37: 'ං', 38: 'ඡ', 39: 'ඟ', 40: 'ු', 41: 'ැ', 42: 'ඇ', 43: 'ූ', 44: 'භ', 45: 'ෑ', 46: 'ඩ', 47: 'ළ', 48: 'උ', 49: '\\u200d', 50: 'ෛ', 51: 'ආ', 52: 'ධ', 53: 'ථ', 54: 'ඹ', 55: 'ඛ', 56: 'ච', 57: 'ඥ', 58: 'ෘ', 59: 'ෆ', 60: 'ඝ', 61: 'ඳ', 62: 'ඤ', 63: 'ඈ', 64: 'ඕ', 65: 'ඵ', 66: 'ඊ', 67: 'ෞ', 68: 'ඖ', 69: 'ඨ', 70: 'ඍ', 71: 'ඞ', 72: 'ඌ', 73: 'ඪ', 74: 'ඣ', 75: 'ඃ', 76: 'ඓ', 77: '¸', 78: '\\u0dfe', 79: 'ෲ', 80: '�', 81: 'Ê', 82: 'ෟ', 83: '\\xa0', 84: '‚', 85: '\\u202c', 86: '‒', 87: '\\u2003', 88: '\\x94', 89: '\\x83'}\n",
      "Output encoding {'ජ': 2, 'ෝ': 3, 'ත': 4, 'ි': 5, ' ': 6, 'ඔ': 7, 'බ': 8, 'ේ': 9, 'හ': 10, 'ඬ': 11, 'අ': 12, 'ම': 13, 'ර': 14, 'ණ': 15, 'ී': 16, 'ය': 17, '.': 18, '්': 19, 'න': 20, 'ො': 21, 'ට': 22, 'ප': 23, 'ල': 24, 'ස': 25, 'ක': 26, 'ෂ': 27, 'ව': 28, 'ා': 29, 'ද': 30, 'ෙ': 31, 'ග': 32, 'එ': 33, 'ඉ': 34, 'ශ': 35, 'ඒ': 36, 'ං': 37, 'ඡ': 38, 'ඟ': 39, 'ු': 40, 'ැ': 41, 'ඇ': 42, 'භ': 43, 'ෑ': 44, 'ූ': 45, 'ඩ': 46, 'ළ': 47, 'උ': 48, '\\u200d': 49, 'ෛ': 50, 'ආ': 51, 'ධ': 52, 'ථ': 53, 'ඹ': 54, 'ඛ': 55, 'ච': 56, 'ඥ': 57, 'ෘ': 58, 'ෆ': 59, 'ඝ': 60, 'ඳ': 61, 'ඤ': 62, 'ඈ': 63, 'ඕ': 64, 'ඵ': 65, 'ඊ': 66, 'ෞ': 67, 'ඖ': 68, 'ඨ': 69, 'ඍ': 70, 'ඞ': 71, 'ඌ': 72, 'ඪ': 73, 'ඣ': 74, 'ඃ': 75, 'ඓ': 76, '¸': 77, '\\u0dfe': 78, 'ෲ': 79, '�': 80, 'Ê': 81, 'ෟ': 82, '\\xa0': 83, '‚': 84, '\\u202c': 85, '‒': 86, '\\u2003': 87, '\\x94': 88, '\\x83': 89}\n",
      "Output decoding {2: 'ජ', 3: 'ෝ', 4: 'ත', 5: 'ි', 6: ' ', 7: 'ඔ', 8: 'බ', 9: 'ේ', 10: 'හ', 11: 'ඬ', 12: 'අ', 13: 'ම', 14: 'ර', 15: 'ණ', 16: 'ී', 17: 'ය', 18: '.', 19: '්', 20: 'න', 21: 'ො', 22: 'ට', 23: 'ප', 24: 'ල', 25: 'ස', 26: 'ක', 27: 'ෂ', 28: 'ව', 29: 'ා', 30: 'ද', 31: 'ෙ', 32: 'ග', 33: 'එ', 34: 'ඉ', 35: 'ශ', 36: 'ඒ', 37: 'ං', 38: 'ඡ', 39: 'ඟ', 40: 'ු', 41: 'ැ', 42: 'ඇ', 43: 'භ', 44: 'ෑ', 45: 'ූ', 46: 'ඩ', 47: 'ළ', 48: 'උ', 49: '\\u200d', 50: 'ෛ', 51: 'ආ', 52: 'ධ', 53: 'ථ', 54: 'ඹ', 55: 'ඛ', 56: 'ච', 57: 'ඥ', 58: 'ෘ', 59: 'ෆ', 60: 'ඝ', 61: 'ඳ', 62: 'ඤ', 63: 'ඈ', 64: 'ඕ', 65: 'ඵ', 66: 'ඊ', 67: 'ෞ', 68: 'ඖ', 69: 'ඨ', 70: 'ඍ', 71: 'ඞ', 72: 'ඌ', 73: 'ඪ', 74: 'ඣ', 75: 'ඃ', 76: 'ඓ', 77: '¸', 78: '\\u0dfe', 79: 'ෲ', 80: '�', 81: 'Ê', 82: 'ෟ', 83: '\\xa0', 84: '‚', 85: '\\u202c', 86: '‒', 87: '\\u2003', 88: '\\x94', 89: '\\x83'}\n",
      "WARNING:tensorflow:From /usr/local/lib/python3.6/dist-packages/tensorflow/python/framework/op_def_library.py:263: colocate_with (from tensorflow.python.framework.ops) is deprecated and will be removed in a future version.\n",
      "Instructions for updating:\n",
      "Colocations handled automatically by placer.\n",
      "__________________________________________________________________________________________________\n",
      "Layer (type)                    Output Shape         Param #     Connected to                     \n",
      "==================================================================================================\n",
      "input_2 (InputLayer)            (None, 200)          0                                            \n",
      "__________________________________________________________________________________________________\n",
      "input_1 (InputLayer)            (None, 200)          0                                            \n",
      "__________________________________________________________________________________________________\n",
      "embedding_2 (Embedding)         (None, 200, 256)     23040       input_2[0][0]                    \n",
      "__________________________________________________________________________________________________\n",
      "embedding_1 (Embedding)         (None, 200, 128)     11520       input_1[0][0]                    \n",
      "__________________________________________________________________________________________________\n",
      "lstm_2 (LSTM)                   (None, 200, 256)     525312      embedding_2[0][0]                \n",
      "__________________________________________________________________________________________________\n",
      "bidirectional_1 (Bidirectional) (None, 200, 256)     263168      embedding_1[0][0]                \n",
      "__________________________________________________________________________________________________\n",
      "dot_1 (Dot)                     (None, 200, 200)     0           lstm_2[0][0]                     \n",
      "                                                                 bidirectional_1[0][0]            \n",
      "__________________________________________________________________________________________________\n",
      "attention (Activation)          (None, 200, 200)     0           dot_1[0][0]                      \n",
      "__________________________________________________________________________________________________\n",
      "dot_2 (Dot)                     (None, 200, 256)     0           attention[0][0]                  \n",
      "                                                                 bidirectional_1[0][0]            \n",
      "__________________________________________________________________________________________________\n",
      "concatenate_1 (Concatenate)     (None, 200, 512)     0           dot_2[0][0]                      \n",
      "                                                                 lstm_2[0][0]                     \n",
      "__________________________________________________________________________________________________\n",
      "time_distributed_1 (TimeDistrib (None, 200, 128)     65664       concatenate_1[0][0]              \n",
      "__________________________________________________________________________________________________\n",
      "time_distributed_2 (TimeDistrib (None, 200, 90)      11610       time_distributed_1[0][0]         \n",
      "==================================================================================================\n",
      "Total params: 900,314\n",
      "Trainable params: 900,314\n",
      "Non-trainable params: 0\n",
      "__________________________________________________________________________________________________\n"
     ]
    }
   ],
   "source": [
    "model, params = build_model(params_path='/content/drive/My Drive/final_year_project/checkpoints/params')"
   ]
  },
  {
   "cell_type": "code",
   "execution_count": 0,
   "metadata": {
    "colab": {},
    "colab_type": "code",
    "id": "_ID54tnEvQVj"
   },
   "outputs": [],
   "source": [
    "class MY_Generator(Sequence):\n",
    "\n",
    "    def __init__(self, input_data, output_data, batch_size):\n",
    "        self.input_data, self.output_data = input_data, output_data\n",
    "        self.batch_size = batch_size\n",
    "\n",
    "    def __len__(self):\n",
    "        return int(np.ceil(len(self.input_data) / float(self.batch_size)))\n",
    "\n",
    "    def __getitem__(self, idx):\n",
    "        batch_X = self.input_data[idx * self.batch_size:(idx + 1) * self.batch_size]\n",
    "        batch_y = self.output_data[idx * self.batch_size:(idx + 1) * self.batch_size]\n",
    "\n",
    "        return convert_training_data(batch_X, batch_y, params)"
   ]
  },
  {
   "cell_type": "code",
   "execution_count": 0,
   "metadata": {
    "colab": {},
    "colab_type": "code",
    "id": "IxjMsfmpVMlp"
   },
   "outputs": [],
   "source": [
    "batch_size = 128\n",
    "num_of_epochs = 200"
   ]
  },
  {
   "cell_type": "code",
   "execution_count": 0,
   "metadata": {
    "colab": {},
    "colab_type": "code",
    "id": "4Zrj91ZSwMCR"
   },
   "outputs": [],
   "source": [
    "my_training_batch_generator = MY_Generator(X_train, y_train, batch_size)\n",
    "my_validation_batch_generator = MY_Generator(X_test, y_test, batch_size)"
   ]
  },
  {
   "cell_type": "code",
   "execution_count": 0,
   "metadata": {
    "colab": {},
    "colab_type": "code",
    "id": "R1A6Kefk0fvz"
   },
   "outputs": [],
   "source": [
    "checkpoint_path = \"/content/drive/My Drive/final_year_project/checkpoints/checkpoint\"\n",
    "\n",
    "checkpoint = ModelCheckpoint(checkpoint_path, monitor='val_loss', verbose=1, save_best_only=True, mode='min')\n",
    "es = EarlyStopping(monitor='val_loss', mode='min', verbose=1, patience=3)\n",
    "\n",
    "callbacks_list = [checkpoint, es]"
   ]
  },
  {
   "cell_type": "code",
   "execution_count": 0,
   "metadata": {
    "colab": {
     "base_uri": "https://localhost:8080/",
     "height": 1423
    },
    "colab_type": "code",
    "id": "MNMFZ7zj0oCb",
    "outputId": "46ea3cba-5197-47ff-b776-1cf55b743782"
   },
   "outputs": [
    {
     "name": "stdout",
     "output_type": "stream",
     "text": [
      "WARNING:tensorflow:From /usr/local/lib/python3.6/dist-packages/tensorflow/python/ops/math_ops.py:3066: to_int32 (from tensorflow.python.ops.math_ops) is deprecated and will be removed in a future version.\n",
      "Instructions for updating:\n",
      "Use tf.cast instead.\n",
      "WARNING:tensorflow:From /usr/local/lib/python3.6/dist-packages/tensorflow/python/ops/math_grad.py:102: div (from tensorflow.python.ops.math_ops) is deprecated and will be removed in a future version.\n",
      "Instructions for updating:\n",
      "Deprecated in favor of operator or tf.math.divide.\n",
      "Epoch 1/200\n",
      "1082/1082 [==============================] - 1337s 1s/step - loss: 1.2390 - acc: 0.6721 - val_loss: 0.1168 - val_acc: 0.9687\n",
      "\n",
      "Epoch 00001: val_loss improved from inf to 0.11684, saving model to /content/drive/My Drive/final_year_project/checkpoints/checkpoint\n"
     ]
    },
    {
     "name": "stderr",
     "output_type": "stream",
     "text": [
      "/usr/local/lib/python3.6/dist-packages/keras/engine/network.py:877: UserWarning: Layer lstm_2 was passed non-serializable keyword arguments: {'initial_state': [<tf.Tensor 'strided_slice:0' shape=(?, 256) dtype=float32>, <tf.Tensor 'strided_slice:0' shape=(?, 256) dtype=float32>]}. They will not be included in the serialized model (and thus will be missing at deserialization time).\n",
      "  '. They will not be included '\n"
     ]
    },
    {
     "name": "stdout",
     "output_type": "stream",
     "text": [
      "Epoch 2/200\n",
      "1082/1082 [==============================] - 1098s 1s/step - loss: 0.0906 - acc: 0.9736 - val_loss: 0.0475 - val_acc: 0.9869\n",
      "\n",
      "Epoch 00002: val_loss improved from 0.11684 to 0.04748, saving model to /content/drive/My Drive/final_year_project/checkpoints/checkpoint\n",
      "Epoch 3/200\n",
      "1082/1082 [==============================] - 1109s 1s/step - loss: 0.0267 - acc: 0.9923 - val_loss: 0.0179 - val_acc: 0.9945\n",
      "\n",
      "Epoch 00003: val_loss improved from 0.04748 to 0.01793, saving model to /content/drive/My Drive/final_year_project/checkpoints/checkpoint\n",
      "Epoch 4/200\n",
      "1082/1082 [==============================] - 1104s 1s/step - loss: 0.0143 - acc: 0.9953 - val_loss: 0.0127 - val_acc: 0.9958\n",
      "\n",
      "Epoch 00004: val_loss improved from 0.01793 to 0.01269, saving model to /content/drive/My Drive/final_year_project/checkpoints/checkpoint\n",
      "Epoch 5/200\n",
      "1082/1082 [==============================] - 1103s 1s/step - loss: 0.0117 - acc: 0.9961 - val_loss: 0.0114 - val_acc: 0.9959\n",
      "\n",
      "Epoch 00005: val_loss improved from 0.01269 to 0.01144, saving model to /content/drive/My Drive/final_year_project/checkpoints/checkpoint\n",
      "Epoch 6/200\n",
      "1082/1082 [==============================] - 1103s 1s/step - loss: 0.0102 - acc: 0.9965 - val_loss: 0.0134 - val_acc: 0.9959\n",
      "\n",
      "Epoch 00006: val_loss did not improve from 0.01144\n",
      "Epoch 7/200\n",
      "1082/1082 [==============================] - 1101s 1s/step - loss: 0.0093 - acc: 0.9968 - val_loss: 0.0087 - val_acc: 0.9971\n",
      "\n",
      "Epoch 00007: val_loss improved from 0.01144 to 0.00871, saving model to /content/drive/My Drive/final_year_project/checkpoints/checkpoint\n",
      "Epoch 8/200\n",
      "1082/1082 [==============================] - 1100s 1s/step - loss: 0.0077 - acc: 0.9974 - val_loss: 0.0084 - val_acc: 0.9973\n",
      "\n",
      "Epoch 00008: val_loss improved from 0.00871 to 0.00839, saving model to /content/drive/My Drive/final_year_project/checkpoints/checkpoint\n",
      "Epoch 9/200\n",
      "1082/1082 [==============================] - 1102s 1s/step - loss: 0.0073 - acc: 0.9976 - val_loss: 0.0080 - val_acc: 0.9974\n",
      "\n",
      "Epoch 00009: val_loss improved from 0.00839 to 0.00805, saving model to /content/drive/My Drive/final_year_project/checkpoints/checkpoint\n",
      "Epoch 10/200\n",
      "1082/1082 [==============================] - 1098s 1s/step - loss: 0.0066 - acc: 0.9978 - val_loss: 0.0079 - val_acc: 0.9975\n",
      "\n",
      "Epoch 00010: val_loss improved from 0.00805 to 0.00789, saving model to /content/drive/My Drive/final_year_project/checkpoints/checkpoint\n",
      "Epoch 11/200\n",
      "1082/1082 [==============================] - 1092s 1s/step - loss: 0.0062 - acc: 0.9979 - val_loss: 0.0067 - val_acc: 0.9978\n",
      "\n",
      "Epoch 00011: val_loss improved from 0.00789 to 0.00672, saving model to /content/drive/My Drive/final_year_project/checkpoints/checkpoint\n",
      "Epoch 12/200\n",
      "1082/1082 [==============================] - 1095s 1s/step - loss: 0.0057 - acc: 0.9981 - val_loss: 0.0066 - val_acc: 0.9978\n",
      "\n",
      "Epoch 00012: val_loss improved from 0.00672 to 0.00660, saving model to /content/drive/My Drive/final_year_project/checkpoints/checkpoint\n",
      "Epoch 13/200\n",
      "1082/1082 [==============================] - 1100s 1s/step - loss: 0.0054 - acc: 0.9982 - val_loss: 0.0068 - val_acc: 0.9979\n",
      "\n",
      "Epoch 00013: val_loss did not improve from 0.00660\n",
      "Epoch 14/200\n",
      "1082/1082 [==============================] - 1098s 1s/step - loss: 0.0051 - acc: 0.9983 - val_loss: 0.0065 - val_acc: 0.9979\n",
      "\n",
      "Epoch 00014: val_loss improved from 0.00660 to 0.00651, saving model to /content/drive/My Drive/final_year_project/checkpoints/checkpoint\n",
      "Epoch 15/200\n",
      "1082/1082 [==============================] - 1097s 1s/step - loss: 0.0047 - acc: 0.9984 - val_loss: 0.0071 - val_acc: 0.9979\n",
      "\n",
      "Epoch 00015: val_loss did not improve from 0.00651\n",
      "Epoch 16/200\n",
      "1082/1082 [==============================] - 1097s 1s/step - loss: 0.0044 - acc: 0.9985 - val_loss: 0.0069 - val_acc: 0.9979\n",
      "\n",
      "Epoch 00016: val_loss did not improve from 0.00651\n",
      "Epoch 17/200\n",
      "1082/1082 [==============================] - 1094s 1s/step - loss: 0.0042 - acc: 0.9986 - val_loss: 0.0073 - val_acc: 0.9977\n",
      "\n",
      "Epoch 00017: val_loss did not improve from 0.00651\n",
      "Epoch 00017: early stopping\n"
     ]
    }
   ],
   "source": [
    "# history = model.fit(input_data, output_data, validation_split=0.2, batch_size=64, epochs=200,\n",
    "#               callbacks=callbacks_list, verbose=1)\n",
    "\n",
    "history = model.fit_generator(generator=my_training_batch_generator,\n",
    "                                          steps_per_epoch=(len(X_train) // batch_size),\n",
    "                                          epochs=num_of_epochs,\n",
    "                                          verbose=1,\n",
    "                                          validation_data=my_validation_batch_generator,\n",
    "                                          validation_steps=(len(X_test) // batch_size),\n",
    "                                          max_queue_size=32,\n",
    "                                          callbacks=callbacks_list)"
   ]
  },
  {
   "cell_type": "code",
   "execution_count": 0,
   "metadata": {
    "colab": {
     "base_uri": "https://localhost:8080/",
     "height": 35
    },
    "colab_type": "code",
    "id": "UMIzO907EEM-",
    "outputId": "f18e01f7-114e-49e3-b2fc-2934726a23aa"
   },
   "outputs": [
    {
     "name": "stdout",
     "output_type": "stream",
     "text": [
      "dict_keys(['val_loss', 'val_acc', 'loss', 'acc'])\n"
     ]
    }
   ],
   "source": [
    "# list all data in history\n",
    "print(history.history.keys())"
   ]
  },
  {
   "cell_type": "code",
   "execution_count": 0,
   "metadata": {
    "colab": {
     "base_uri": "https://localhost:8080/",
     "height": 295
    },
    "colab_type": "code",
    "id": "7jGJskOqMKrr",
    "outputId": "b6366285-17c0-4468-a7d2-246695e6eca7"
   },
   "outputs": [
    {
     "data": {
      "image/png": "[encoded data removed]",
      "text/plain": [
       "<Figure size 432x288 with 1 Axes>"
      ]
     },
     "metadata": {
      "tags": []
     },
     "output_type": "display_data"
    }
   ],
   "source": [
    "# summarize history for accuracy\n",
    "plt.plot(history.history['acc'])\n",
    "plt.plot(history.history['val_acc'])\n",
    "plt.title('model accuracy')\n",
    "plt.ylabel('accuracy')\n",
    "plt.xlabel('epoch')\n",
    "plt.legend(['train', 'test'], loc='lower right')\n",
    "plt.show()"
   ]
  },
  {
   "cell_type": "code",
   "execution_count": 0,
   "metadata": {
    "colab": {
     "base_uri": "https://localhost:8080/",
     "height": 295
    },
    "colab_type": "code",
    "id": "RN6NoO0jMgLe",
    "outputId": "085e1ac7-8bc7-4b38-d4ba-488ee58ae870"
   },
   "outputs": [
    {
     "data": {
      "image/png": "[encoded data removed]",
      "text/plain": [
       "<Figure size 432x288 with 1 Axes>"
      ]
     },
     "metadata": {
      "tags": []
     },
     "output_type": "display_data"
    }
   ],
   "source": [
    "# summarize history for loss\n",
    "plt.plot(history.history['loss'])\n",
    "plt.plot(history.history['val_loss'])\n",
    "plt.title('model loss')\n",
    "plt.ylabel('loss')\n",
    "plt.xlabel('epoch')\n",
    "plt.legend(['train', 'test'], loc='upper right')\n",
    "plt.show()"
   ]
  }
 ],
 "metadata": {
  "accelerator": "GPU",
  "colab": {
   "collapsed_sections": [],
   "name": "sinhala_grammar_correction.ipynb",
   "provenance": [],
   "version": "0.3.2"
  },
  "kernelspec": {
   "display_name": "Python 3",
   "language": "python",
   "name": "python3"
  },
  "language_info": {
   "codemirror_mode": {
    "name": "ipython",
    "version": 3
   },
   "file_extension": ".py",
   "mimetype": "text/x-python",
   "name": "python",
   "nbconvert_exporter": "python",
   "pygments_lexer": "ipython3",
   "version": "3.6.8"
  }
 },
 "nbformat": 4,
 "nbformat_minor": 1
}
